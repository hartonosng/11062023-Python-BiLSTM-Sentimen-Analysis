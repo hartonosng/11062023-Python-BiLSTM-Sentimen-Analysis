{
  "nbformat": 4,
  "nbformat_minor": 0,
  "metadata": {
    "colab": {
      "provenance": []
    },
    "kernelspec": {
      "name": "python3",
      "display_name": "Python 3"
    },
    "language_info": {
      "name": "python"
    }
  },
  "cells": [
    {
      "cell_type": "code",
      "execution_count": 1,
      "metadata": {
        "colab": {
          "base_uri": "https://localhost:8080/"
        },
        "id": "IDsEpT2l8ipC",
        "outputId": "84f67bf3-7b36-483e-e01f-842af383a9df"
      },
      "outputs": [
        {
          "output_type": "stream",
          "name": "stderr",
          "text": [
            "[nltk_data] Downloading package stopwords to /root/nltk_data...\n",
            "[nltk_data]   Package stopwords is already up-to-date!\n",
            "[nltk_data] Downloading package wordnet to /root/nltk_data...\n",
            "[nltk_data]   Package wordnet is already up-to-date!\n"
          ]
        }
      ],
      "source": [
        "import pickle\n",
        "import tensorflow as tf\n",
        "import os\n",
        "import re\n",
        "import numpy as np\n",
        "import pandas as pd\n",
        "from tensorflow.keras.preprocessing.sequence import pad_sequences\n",
        "import nltk\n",
        "from nltk.corpus import stopwords\n",
        "from nltk.stem import WordNetLemmatizer\n",
        "from nltk import word_tokenize\n",
        "\n",
        "nltk.download('stopwords')\n",
        "nltk.download('wordnet')\n",
        "lemmatizer = WordNetLemmatizer()\n",
        "STOPWORDS = set(stopwords.words('english'))\n",
        "path='/content/drive/MyDrive/Jago Data/Sentimen Analysis - BiLSTM'\n",
        "\n",
        "# Memuat kembali tokenizer dari file\n",
        "tokenizer_filename = \"tokenizer.pkl\"\n",
        "with open(os.path.join(path,tokenizer_filename), 'rb') as file:\n",
        "    tokenizer = pickle.load(file)\n",
        "\n",
        "# Memuat model BiLSTM yang telah dilatih sebelumnya\n",
        "model = tf.keras.models.load_model(os.path.join(path,'model_BiLSTM.h5'))\n",
        "\n",
        "def preprocess_text(text):\n",
        "    text = text.lower()  # Mengubah teks menjadi huruf kecil\n",
        "    text = ' '.join(word for word in text.split() if word not in STOPWORDS)  # Menghapus stopwords dari teks\n",
        "    text = re.sub(r'\\W', ' ', text)  # Menghapus semua karakter khusus\n",
        "    text = re.sub(r'\\s+[a-zA-Z]\\s+', ' ', text)  # Menghapus semua karakter tunggal\n",
        "    text = re.sub(r'\\^[a-zA-Z]\\s+', ' ', text)  # Menghapus karakter tunggal dari awal\n",
        "    text = re.sub(r'\\s+', ' ', text, flags=re.I)  # Menggantikan beberapa spasi dengan satu spasi\n",
        "    # Lemmatisasi\n",
        "    tokens = text.split()\n",
        "    tokens = [lemmatizer.lemmatize(token) for token in tokens]\n",
        "    text = ' '.join(tokens)\n",
        "    return text\n",
        "\n",
        "# Fungsi untuk melakukan prediksi pada data teks baru\n",
        "def predict_text(text):\n",
        "    text=preprocess_text(text)\n",
        "    # Menggunakan tokenizer pada data teks baru\n",
        "    sequence = tokenizer.texts_to_sequences([text])\n",
        "    padded_sequence = pad_sequences(sequence, maxlen=1476)\n",
        "    # Melakukan prediksi menggunakan model BiLSTM\n",
        "    prediction = model.predict(padded_sequence)[0]\n",
        "    prediction = np.where(prediction[1] >= 0.5, 'Positive', 'Negative')\n",
        "    return prediction\n",
        "\n",
        "def print_pretty_text(text, column_width):\n",
        "    words = text.split()\n",
        "    current_line = \"\"\n",
        "    for word in words:\n",
        "        if len(current_line) + len(word) + 1 <= column_width:\n",
        "            current_line += word + \" \"\n",
        "        else:\n",
        "            print(current_line.strip())\n",
        "            current_line = word + \" \"\n",
        "    if current_line:\n",
        "        print(current_line.strip())\n"
      ]
    },
    {
      "cell_type": "code",
      "source": [
        "# Menerima input data teks baru dari pengguna\n",
        "input_text = input(\"Masukkan teks: \")\n",
        "\n",
        "# Melakukan prediksi menggunakan fungsi predict_text()\n",
        "prediction = predict_text(input_text)\n",
        "\n",
        "# Menampilkan hasil prediksi\n",
        "print_pretty_text(input_text, 150)\n",
        "print(\"Prediksi:\", prediction)"
      ],
      "metadata": {
        "colab": {
          "base_uri": "https://localhost:8080/"
        },
        "id": "U10XoEby9ILx",
        "outputId": "4181bd48-4ea8-4a01-84b6-1a65795934cc"
      },
      "execution_count": 2,
      "outputs": [
        {
          "output_type": "stream",
          "name": "stdout",
          "text": [
            "Masukkan teks: Title: \"Disappointing Disarray\"  I recently had the unfortunate experience of watching \"Disappointing Disarray,\" and I must say it was a letdown from beginning to end. This film failed to live up to its potential and left me feeling unsatisfied.  One of the biggest issues with \"Disappointing Disarray\" was its weak and convoluted storyline. The plot lacked coherence and seemed to jump from one random event to another without proper explanation or connection. It left me feeling confused and detached from the characters' motivations and actions. The narrative was riddled with plot holes and inconsistencies, making it difficult to invest in the story.  The performances in the film were also underwhelming. The actors seemed disengaged and failed to bring depth to their characters. The dialogue felt forced and lacked authenticity, making it hard to connect with the emotions portrayed on screen. The chemistry between the cast members was non-existent, further hindering the believability of the relationships within the film.  Visually, \"Disappointing Disarray\" was lackluster. The cinematography was uninspired, with dull and unimaginative shots. The special effects, if any, were poorly executed, detracting from the overall visual experience. The lack of attention to detail was apparent, and it made the film feel amateurish and hastily put together.  Additionally, the soundtrack did little to enhance the viewing experience. The music felt generic and did not contribute to the mood or atmosphere of the scenes. It failed to evoke any emotional response and was easily forgettable.  Overall, \"Disappointing Disarray\" was a disappointing and disjointed film. The weak storyline, lackluster performances, uninspired visuals, and forgettable soundtrack all contributed to its downfall. I would not recommend this film to anyone looking for a compelling and well-crafted movie. It left me feeling dissatisfied and wishing I had spent my time on something more worthwhile.\n",
            "1/1 [==============================] - 1s 1s/step\n",
            "Title: \"Disappointing Disarray\" I recently had the unfortunate experience of watching \"Disappointing Disarray,\" and I must say it was a letdown from\n",
            "beginning to end. This film failed to live up to its potential and left me feeling unsatisfied. One of the biggest issues with \"Disappointing\n",
            "Disarray\" was its weak and convoluted storyline. The plot lacked coherence and seemed to jump from one random event to another without proper\n",
            "explanation or connection. It left me feeling confused and detached from the characters' motivations and actions. The narrative was riddled with plot\n",
            "holes and inconsistencies, making it difficult to invest in the story. The performances in the film were also underwhelming. The actors seemed\n",
            "disengaged and failed to bring depth to their characters. The dialogue felt forced and lacked authenticity, making it hard to connect with the\n",
            "emotions portrayed on screen. The chemistry between the cast members was non-existent, further hindering the believability of the relationships\n",
            "within the film. Visually, \"Disappointing Disarray\" was lackluster. The cinematography was uninspired, with dull and unimaginative shots. The special\n",
            "effects, if any, were poorly executed, detracting from the overall visual experience. The lack of attention to detail was apparent, and it made the\n",
            "film feel amateurish and hastily put together. Additionally, the soundtrack did little to enhance the viewing experience. The music felt generic and\n",
            "did not contribute to the mood or atmosphere of the scenes. It failed to evoke any emotional response and was easily forgettable. Overall,\n",
            "\"Disappointing Disarray\" was a disappointing and disjointed film. The weak storyline, lackluster performances, uninspired visuals, and forgettable\n",
            "soundtrack all contributed to its downfall. I would not recommend this film to anyone looking for a compelling and well-crafted movie. It left me\n",
            "feeling dissatisfied and wishing I had spent my time on something more worthwhile.\n",
            "Prediksi: Negative\n"
          ]
        }
      ]
    },
    {
      "cell_type": "code",
      "source": [
        "# Menerima input data teks baru dari pengguna\n",
        "input_text = input(\"Masukkan teks: \")\n",
        "\n",
        "# Melakukan prediksi menggunakan fungsi predict_text()\n",
        "prediction = predict_text(input_text)\n",
        "\n",
        "# Menampilkan hasil prediksi\n",
        "print_pretty_text(input_text, 150)\n",
        "print(\"Prediksi:\", prediction)"
      ],
      "metadata": {
        "colab": {
          "base_uri": "https://localhost:8080/"
        },
        "id": "zE6Jd5CSCVWE",
        "outputId": "7473b49c-27ac-46de-d6e4-d1d5c776dcfc"
      },
      "execution_count": 3,
      "outputs": [
        {
          "output_type": "stream",
          "name": "stdout",
          "text": [
            "Masukkan teks: Title: \"The Spectacular Adventure\"  I recently had the pleasure of watching \"The Spectacular Adventure,\" and I must say it was an absolute delight from start to finish. This film truly exceeded my expectations and left me feeling exhilarated.  First and foremost, the storyline was captivating and kept me on the edge of my seat throughout. It was a perfect blend of action, suspense, and heartwarming moments. The plot was well-developed, with unexpected twists and turns that kept me guessing until the very end. I found myself completely immersed in the characters' journey, rooting for their success and emotionally invested in their struggles.  The cast of \"The Spectacular Adventure\" delivered outstanding performances. The lead actors portrayed their roles with depth and authenticity, bringing the characters to life and making them relatable. Their chemistry was palpable, creating genuine connections between the characters and adding another layer of depth to the film.  Visually, the film was a treat for the eyes. The cinematography was stunning, with breathtaking scenery and beautifully choreographed action sequences. The special effects were seamless and added to the overall excitement and spectacle of the film. The attention to detail was evident, and it made for a truly immersive viewing experience.  The soundtrack was also a standout aspect of the film. The music perfectly complemented the mood of each scene, enhancing the emotions and adding an extra layer of intensity. It helped to create a powerful atmosphere and further immerse the audience in the story.  Overall, \"The Spectacular Adventure\" is an absolute gem of a film. It offers a thrilling and engaging story, exceptional performances, breathtaking visuals, and a captivating soundtrack. I highly recommend it to anyone who enjoys a well-crafted adventure film. It left me feeling inspired and entertained, and I can't wait to watch it again.\n",
            "1/1 [==============================] - 0s 141ms/step\n",
            "Title: \"The Spectacular Adventure\" I recently had the pleasure of watching \"The Spectacular Adventure,\" and I must say it was an absolute delight\n",
            "from start to finish. This film truly exceeded my expectations and left me feeling exhilarated. First and foremost, the storyline was captivating and\n",
            "kept me on the edge of my seat throughout. It was a perfect blend of action, suspense, and heartwarming moments. The plot was well-developed, with\n",
            "unexpected twists and turns that kept me guessing until the very end. I found myself completely immersed in the characters' journey, rooting for\n",
            "their success and emotionally invested in their struggles. The cast of \"The Spectacular Adventure\" delivered outstanding performances. The lead\n",
            "actors portrayed their roles with depth and authenticity, bringing the characters to life and making them relatable. Their chemistry was palpable,\n",
            "creating genuine connections between the characters and adding another layer of depth to the film. Visually, the film was a treat for the eyes. The\n",
            "cinematography was stunning, with breathtaking scenery and beautifully choreographed action sequences. The special effects were seamless and added to\n",
            "the overall excitement and spectacle of the film. The attention to detail was evident, and it made for a truly immersive viewing experience. The\n",
            "soundtrack was also a standout aspect of the film. The music perfectly complemented the mood of each scene, enhancing the emotions and adding an\n",
            "extra layer of intensity. It helped to create a powerful atmosphere and further immerse the audience in the story. Overall, \"The Spectacular\n",
            "Adventure\" is an absolute gem of a film. It offers a thrilling and engaging story, exceptional performances, breathtaking visuals, and a captivating\n",
            "soundtrack. I highly recommend it to anyone who enjoys a well-crafted adventure film. It left me feeling inspired and entertained, and I can't wait\n",
            "to watch it again.\n",
            "Prediksi: Positive\n"
          ]
        }
      ]
    }
  ]
}